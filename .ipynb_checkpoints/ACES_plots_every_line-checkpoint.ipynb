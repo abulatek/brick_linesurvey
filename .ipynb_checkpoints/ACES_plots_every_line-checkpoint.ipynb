{
 "cells": [
  {
   "cell_type": "code",
   "execution_count": 7,
   "metadata": {},
   "outputs": [],
   "source": [
    "# Incorporate all likely lines into our plots, even ones the code didn't detect\n",
    "from astropy.io import ascii\n",
    "from astroquery.splatalogue import Splatalogue, utils\n",
    "from astropy import units as u\n",
    "from astropy import table\n",
    "from full_spectrum_plot import plot_spectrum, plot_spectrum_line_ids\n",
    "from spectral_ids import line_ids\n",
    "results = '/blue/adamginsburg/abulatek/brick/symlinks/imaging_results/spectra/'"
   ]
  },
  {
   "cell_type": "code",
   "execution_count": 12,
   "metadata": {},
   "outputs": [],
   "source": [
    "# Begin by reading in the .csv file we made\n",
    "every_line = ascii.read('ACES_lines_brick.csv', format='csv')"
   ]
  },
  {
   "cell_type": "code",
   "execution_count": 13,
   "metadata": {},
   "outputs": [],
   "source": [
    "# Remove rows that are masked\n",
    "every_line = every_line[~every_line['freq_spw'].mask]"
   ]
  },
  {
   "cell_type": "code",
   "execution_count": 14,
   "metadata": {},
   "outputs": [
    {
     "data": {
      "text/html": [
       "<i>Table length=26</i>\n",
       "<table id=\"table47461071765288\" class=\"table-striped table-bordered table-condensed\">\n",
       "<thead><tr><th>freq_spw</th><th>Spectrum type</th><th>Species</th><th>QNs</th><th>Frequency (GHz)</th><th>Velocity (km/s)</th><th>Comment</th><th>Additional comment</th><th>col8</th><th>_1</th><th>_2</th><th>_3</th></tr></thead>\n",
       "<thead><tr><th>str10</th><th>str4</th><th>str23</th><th>str36</th><th>str20</th><th>int64</th><th>str76</th><th>str33</th><th>int64</th><th>int64</th><th>int64</th><th>int64</th></tr></thead>\n",
       "<tr><td>87_spw25</td><td>max</td><td>29SiOv=0</td><td>2–1</td><td>85.759188</td><td>9</td><td>very likely, seen in Belloche+, low velocity</td><td>--</td><td>--</td><td>--</td><td>--</td><td>--</td></tr>\n",
       "<tr><td>87_spw25</td><td>max</td><td>CCS</td><td>N=7–6, J=6–5</td><td>86.181391</td><td>71</td><td>Adam: probably real but very weak</td><td>--</td><td>--</td><td>--</td><td>--</td><td>--</td></tr>\n",
       "<tr><td>87_spw25</td><td>max</td><td>SiOv=1</td><td>2–1</td><td>86.24337</td><td>35</td><td>--</td><td>maser in evolved star atmospheres</td><td>--</td><td>--</td><td>--</td><td>--</td></tr>\n",
       "<tr><td>87_spw25</td><td>max</td><td>H13CN</td><td>1–0 F 1–1</td><td>86.338735</td><td>--</td><td>seen in Jones+2012, can&apos;t get code to detect</td><td>--</td><td>--</td><td>--</td><td>--</td><td>--</td></tr>\n",
       "<tr><td>87_spw25</td><td>max</td><td>H13CO+</td><td>1–0</td><td>86.7542619</td><td>68</td><td>real, seen in Jones+2012</td><td>--</td><td>--</td><td>--</td><td>--</td><td>--</td></tr>\n",
       "<tr><td>87_spw25</td><td>max</td><td>SiOv=0</td><td>2–1</td><td>86.84696</td><td>13</td><td>seen in Jones+2012, low velocity</td><td>--</td><td>--</td><td>--</td><td>--</td><td>--</td></tr>\n",
       "<tr><td>87_spw25</td><td>max</td><td>HN13C</td><td>1–0 F 0–1</td><td>87.090735</td><td>36</td><td>seen in Jones+2012</td><td>--</td><td>--</td><td>--</td><td>--</td><td>--</td></tr>\n",
       "<tr><td>87_spw25</td><td>max</td><td>CCHv=0</td><td>N=1–0, J=3/2–1/2, F=1–1</td><td>87.284105</td><td>41</td><td>seen in Jones (so is HNCO near freq)</td><td>--</td><td>--</td><td>--</td><td>--</td><td>--</td></tr>\n",
       "<tr><td>87_spw25</td><td>max</td><td>HNCO</td><td>4(0,4)–3(0,3)</td><td>87.925238</td><td>--</td><td>seen in Jones, should be brighter than CCH, but outside of freq range of spw</td><td>--</td><td>--</td><td>--</td><td>--</td><td>--</td></tr>\n",
       "<tr><td>87_spw25</td><td>max</td><td>CCH</td><td>1–0 −1–1/2 F = 1–11–0 −1–1/2 F = 0–1</td><td>87.40200487.407165</td><td>--</td><td>bright, maybe also CCH? (Jones+2012), can&apos;t get code to detect</td><td>--</td><td>--</td><td>--</td><td>--</td><td>--</td></tr>\n",
       "<tr><td>...</td><td>...</td><td>...</td><td>...</td><td>...</td><td>...</td><td>...</td><td>...</td><td>...</td><td>...</td><td>...</td><td>...</td></tr>\n",
       "<tr><td>102_spw106</td><td>max</td><td>NH2CHO</td><td>5(1,5)–4(1,4)</td><td>102.064263</td><td>41</td><td>Jones+2008 and code agree</td><td>--</td><td>--</td><td>--</td><td>--</td><td>--</td></tr>\n",
       "<tr><td>102_spw106</td><td>max</td><td>H2COH+</td><td>4(0,4)–3(1,3)</td><td>102.065856</td><td>46</td><td>Jones+2008 and code agree</td><td>--</td><td>--</td><td>--</td><td>--</td><td>--</td></tr>\n",
       "<tr><td>102_spw106</td><td>max</td><td>CH3CCHv=0</td><td>6(3)–5(3)</td><td>102.530346</td><td>39</td><td>seen in Jones+2008</td><td>thermometer</td><td>--</td><td>--</td><td>--</td><td>--</td></tr>\n",
       "<tr><td>102_spw106</td><td>max</td><td>(CH3)2COvt=1(CH3)2COv=0</td><td>10(*,10)–9(*,9)10(0,10)–9(1,9)EE</td><td>102.533756102.554696</td><td>6149</td><td>acetone. maybe? could be mis-ID of CH3CCH. Adam is skeptical of these</td><td>--</td><td>--</td><td>--</td><td>--</td><td>--</td></tr>\n",
       "<tr><td>102_spw106</td><td>max</td><td>H2CS</td><td>3(2,2)–2(2,1)</td><td>103.03999</td><td>37</td><td>seen in Jones+2008</td><td>--</td><td>--</td><td>--</td><td>--</td><td>--</td></tr>\n",
       "<tr><td>102_spw106</td><td>mean</td><td>NH2CHO</td><td>5(1,5)–4(1,4)</td><td>102.064263</td><td>25</td><td>Jones+2008 and code agree</td><td>--</td><td>--</td><td>--</td><td>--</td><td>--</td></tr>\n",
       "<tr><td>102_spw106</td><td>mean</td><td>H2COH+</td><td>4(0,4)–3(1,3)</td><td>102.065856</td><td>46</td><td>Jones+2008 and code agree</td><td>--</td><td>--</td><td>--</td><td>--</td><td>--</td></tr>\n",
       "<tr><td>102_spw106</td><td>mean</td><td>CH3CCHv=0</td><td>6(2)–5(2)</td><td>102.547983</td><td>12</td><td>seen in Jones+2008</td><td>thermometer</td><td>--</td><td>--</td><td>--</td><td>--</td></tr>\n",
       "<tr><td>102_spw106</td><td>mean</td><td>(CH3)2COv=0</td><td>10(0,10)–9(1,9)EE</td><td>102.554696</td><td>55</td><td>acetone. maybe? could be mis-ID of CH3CCH. Adam is skeptical of these</td><td>--</td><td>--</td><td>--</td><td>--</td><td>--</td></tr>\n",
       "<tr><td>102_spw106</td><td>mean</td><td>H2CS</td><td>3(2,2)–2(2,1)</td><td>103.03999</td><td>41</td><td>seen in Jones+2008</td><td>--</td><td>--</td><td>--</td><td>--</td><td>--</td></tr>\n",
       "</table>"
      ],
      "text/plain": [
       "<Table length=26>\n",
       " freq_spw  Spectrum type         Species         ...   _1    _2    _3 \n",
       "  str10         str4              str23          ... int64 int64 int64\n",
       "---------- ------------- ----------------------- ... ----- ----- -----\n",
       "  87_spw25           max                29SiOv=0 ...    --    --    --\n",
       "  87_spw25           max                     CCS ...    --    --    --\n",
       "  87_spw25           max                  SiOv=1 ...    --    --    --\n",
       "  87_spw25           max                   H13CN ...    --    --    --\n",
       "  87_spw25           max                  H13CO+ ...    --    --    --\n",
       "  87_spw25           max                  SiOv=0 ...    --    --    --\n",
       "  87_spw25           max                   HN13C ...    --    --    --\n",
       "  87_spw25           max                  CCHv=0 ...    --    --    --\n",
       "  87_spw25           max                    HNCO ...    --    --    --\n",
       "  87_spw25           max                     CCH ...    --    --    --\n",
       "       ...           ...                     ... ...   ...   ...   ...\n",
       "102_spw106           max                  NH2CHO ...    --    --    --\n",
       "102_spw106           max                  H2COH+ ...    --    --    --\n",
       "102_spw106           max               CH3CCHv=0 ...    --    --    --\n",
       "102_spw106           max (CH3)2COvt=1(CH3)2COv=0 ...    --    --    --\n",
       "102_spw106           max                    H2CS ...    --    --    --\n",
       "102_spw106          mean                  NH2CHO ...    --    --    --\n",
       "102_spw106          mean                  H2COH+ ...    --    --    --\n",
       "102_spw106          mean               CH3CCHv=0 ...    --    --    --\n",
       "102_spw106          mean             (CH3)2COv=0 ...    --    --    --\n",
       "102_spw106          mean                    H2CS ...    --    --    --"
      ]
     },
     "execution_count": 14,
     "metadata": {},
     "output_type": "execute_result"
    }
   ],
   "source": [
    "every_line"
   ]
  },
  {
   "cell_type": "code",
   "execution_count": null,
   "metadata": {},
   "outputs": [],
   "source": []
  }
 ],
 "metadata": {
  "kernelspec": {
   "display_name": "Python 3",
   "language": "python",
   "name": "python3"
  },
  "language_info": {
   "codemirror_mode": {
    "name": "ipython",
    "version": 3
   },
   "file_extension": ".py",
   "mimetype": "text/x-python",
   "name": "python",
   "nbconvert_exporter": "python",
   "pygments_lexer": "ipython3",
   "version": "3.7.0"
  }
 },
 "nbformat": 4,
 "nbformat_minor": 2
}
