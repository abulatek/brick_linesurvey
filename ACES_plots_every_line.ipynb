{
 "cells": [
  {
   "cell_type": "code",
   "execution_count": null,
   "metadata": {},
   "outputs": [],
   "source": [
    "# Incorporate all likely lines into our plots, even ones the code didn't detect\n",
    "from astropy.io import ascii\n",
    "from astroquery.splatalogue import Splatalogue, utils\n",
    "from astropy import units as u\n",
    "from astropy import table\n",
    "from full_spectrum_plot import plot_spectrum, plot_spectrum_line_ids, plot_spectrum_line_ids_final\n",
    "from spectral_ids import line_ids\n",
    "results = '/blue/adamginsburg/abulatek/brick/symlinks/imaging_results/spectra/'"
   ]
  },
  {
   "cell_type": "code",
   "execution_count": null,
   "metadata": {},
   "outputs": [],
   "source": [
    "# Begin by reading in the .csv file we made\n",
    "every_line = ascii.read('ACES_lines_brick.csv', format='csv')\n",
    "# Remove rows that are masked\n",
    "every_line = every_line[~every_line['freq_spw'].mask]\n",
    "# Group by spectral window and type of spectrum\n",
    "every_line_by_spectrum = every_line.group_by(['freq_spw','Spectrum type'])"
   ]
  },
  {
   "cell_type": "code",
   "execution_count": null,
   "metadata": {},
   "outputs": [],
   "source": [
    "max_ids_87_spw25_L = every_line_by_spectrum.groups[2]\n",
    "mean_ids_87_spw25_L = every_line_by_spectrum.groups[3]\n",
    "max_ids_102_spw106_L = every_line_by_spectrum.groups[0]\n",
    "mean_ids_102_spw106_L = every_line_by_spectrum.groups[1]"
   ]
  },
  {
   "cell_type": "code",
   "execution_count": null,
   "metadata": {},
   "outputs": [],
   "source": [
    "curated_max_ids = [max_ids_87_spw25_L,max_ids_102_spw106_L]\n",
    "curated_mean_ids = [mean_ids_87_spw25_L,mean_ids_102_spw106_L]\n",
    "i = 0\n",
    "for freq_spw in ['87_spw25','102_spw106']:\n",
    "    max_fn = results+'source_ab_'+freq_spw+'_clean_2sigma_n50000_masked_3sigma_pbmask0p18.max.fits'\n",
    "    mean_fn = results+'source_ab_'+freq_spw+'_clean_2sigma_n50000_masked_3sigma_pbmask0p18.mean.fits'\n",
    "    # Plot lines in max spectrum\n",
    "    plot_spectrum_line_ids_final(max_fn, curated_max_ids[i], save=True)\n",
    "    # Plot lines in mean spectrum\n",
    "    plot_spectrum_line_ids_final(mean_fn, curated_mean_ids[i], save=True)\n",
    "    i += 1"
   ]
  },
  {
   "cell_type": "code",
   "execution_count": null,
   "metadata": {},
   "outputs": [],
   "source": []
  }
 ],
 "metadata": {
  "kernelspec": {
   "display_name": "Python 3",
   "language": "python",
   "name": "python3"
  },
  "language_info": {
   "codemirror_mode": {
    "name": "ipython",
    "version": 3
   },
   "file_extension": ".py",
   "mimetype": "text/x-python",
   "name": "python",
   "nbconvert_exporter": "python",
   "pygments_lexer": "ipython3",
   "version": "3.7.0"
  }
 },
 "nbformat": 4,
 "nbformat_minor": 2
}
